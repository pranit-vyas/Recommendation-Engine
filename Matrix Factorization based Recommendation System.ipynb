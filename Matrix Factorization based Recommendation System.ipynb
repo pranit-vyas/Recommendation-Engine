{
 "cells": [
  {
   "cell_type": "markdown",
   "metadata": {},
   "source": [
    " ### Matrix Factorization\n",
    "We will be using movie lens dataset for trying out how matrix factorization works. \n",
    "\n",
    "The idea is to extract features for users and movies which may or may not exist as a physical feature but are an approximation.\n",
    "\n",
    "We want to \"break\" / reduce the dimensions of the *users X movies* matrix into two matrices with reduced (selected number of) dimensions."
   ]
  },
  {
   "cell_type": "code",
   "execution_count": 1,
   "metadata": {},
   "outputs": [],
   "source": [
    "import pandas as pd\n",
    "import numpy as np\n",
    "import time\n",
    "import matplotlib.pyplot as plt"
   ]
  },
  {
   "cell_type": "code",
   "execution_count": 2,
   "metadata": {},
   "outputs": [
    {
     "name": "stdout",
     "output_type": "stream",
     "text": [
      "<class 'pandas.core.frame.DataFrame'>\n",
      "RangeIndex: 20000263 entries, 0 to 20000262\n",
      "Data columns (total 3 columns):\n",
      " #   Column   Dtype  \n",
      "---  ------   -----  \n",
      " 0   userId   int64  \n",
      " 1   movieId  int64  \n",
      " 2   rating   float64\n",
      "dtypes: float64(1), int64(2)\n",
      "memory usage: 457.8 MB\n"
     ]
    }
   ],
   "source": [
    "# reading movie lens dataset\n",
    "\n",
    "df = pd.read_csv(r'../large_files/movielens-20m-dataset/rating.csv')\n",
    "df = df.drop('timestamp',axis = 1)\n",
    "number_of_ratings  = df.shape[0]\n",
    "df.info()"
   ]
  },
  {
   "cell_type": "code",
   "execution_count": 3,
   "metadata": {},
   "outputs": [
    {
     "data": {
      "text/html": [
       "<div>\n",
       "<style scoped>\n",
       "    .dataframe tbody tr th:only-of-type {\n",
       "        vertical-align: middle;\n",
       "    }\n",
       "\n",
       "    .dataframe tbody tr th {\n",
       "        vertical-align: top;\n",
       "    }\n",
       "\n",
       "    .dataframe thead th {\n",
       "        text-align: right;\n",
       "    }\n",
       "</style>\n",
       "<table border=\"1\" class=\"dataframe\">\n",
       "  <thead>\n",
       "    <tr style=\"text-align: right;\">\n",
       "      <th></th>\n",
       "      <th>userId</th>\n",
       "      <th>movieId</th>\n",
       "      <th>rating</th>\n",
       "    </tr>\n",
       "  </thead>\n",
       "  <tbody>\n",
       "    <tr>\n",
       "      <th>0</th>\n",
       "      <td>1</td>\n",
       "      <td>2</td>\n",
       "      <td>3.5</td>\n",
       "    </tr>\n",
       "    <tr>\n",
       "      <th>1</th>\n",
       "      <td>1</td>\n",
       "      <td>29</td>\n",
       "      <td>3.5</td>\n",
       "    </tr>\n",
       "    <tr>\n",
       "      <th>2</th>\n",
       "      <td>1</td>\n",
       "      <td>32</td>\n",
       "      <td>3.5</td>\n",
       "    </tr>\n",
       "    <tr>\n",
       "      <th>3</th>\n",
       "      <td>1</td>\n",
       "      <td>47</td>\n",
       "      <td>3.5</td>\n",
       "    </tr>\n",
       "    <tr>\n",
       "      <th>4</th>\n",
       "      <td>1</td>\n",
       "      <td>50</td>\n",
       "      <td>3.5</td>\n",
       "    </tr>\n",
       "  </tbody>\n",
       "</table>\n",
       "</div>"
      ],
      "text/plain": [
       "   userId  movieId  rating\n",
       "0       1        2     3.5\n",
       "1       1       29     3.5\n",
       "2       1       32     3.5\n",
       "3       1       47     3.5\n",
       "4       1       50     3.5"
      ]
     },
     "execution_count": 3,
     "metadata": {},
     "output_type": "execute_result"
    }
   ],
   "source": [
    "df.head()"
   ]
  },
  {
   "cell_type": "code",
   "execution_count": 4,
   "metadata": {},
   "outputs": [
    {
     "name": "stdout",
     "output_type": "stream",
     "text": [
      "Unique users : 138493 and unique movies : 26744\n"
     ]
    }
   ],
   "source": [
    "print(f'Unique users : {df.userId.nunique()} and unique movies : {df.movieId.nunique()}')"
   ]
  },
  {
   "cell_type": "code",
   "execution_count": 5,
   "metadata": {},
   "outputs": [
    {
     "name": "stdout",
     "output_type": "stream",
     "text": [
      "Number of users who have given 40% of the total ratings : 10691 and is 7.72% of total user base\n"
     ]
    }
   ],
   "source": [
    "# Calculating cumulative percentages of ratings received at user level\n",
    "\n",
    "userId_rating_count = df.userId.value_counts().reset_index().rename(columns = {'index':'UserId','userId':'Cnt_Movies_Rated'}).sort_values(by = 'Cnt_Movies_Rated',ascending = False)\n",
    "userId_rating_count['Cumulative_Perc'] = userId_rating_count.Cnt_Movies_Rated.cumsum()/number_of_ratings\n",
    "\n",
    "userids_at_80 = userId_rating_count.loc[userId_rating_count['Cumulative_Perc'] <= 0.4,'UserId']\n",
    "print(f'Number of users who have given 40% of the total ratings : {len(userids_at_80)} and is {round(len(userids_at_80)*100/df.userId.nunique(),2)}% of total user base')"
   ]
  },
  {
   "cell_type": "code",
   "execution_count": 6,
   "metadata": {},
   "outputs": [
    {
     "name": "stdout",
     "output_type": "stream",
     "text": [
      "Number of movies which received 80% of the total ratings : 1948 and is 7.28% of total movie base\n"
     ]
    }
   ],
   "source": [
    "# Calculating cumulative percentages of ratings received at movie level\n",
    "\n",
    "movieId_rating_count = df.movieId.value_counts().reset_index().rename(columns = {'index':'MovieId','movieId':'Cnt_Users_Rated'}).sort_values(by = 'Cnt_Users_Rated',ascending = False)\n",
    "movieId_rating_count['Cumulative_Perc'] = movieId_rating_count.Cnt_Users_Rated.cumsum()/number_of_ratings\n",
    "\n",
    "movieids_at_80 = movieId_rating_count.loc[movieId_rating_count['Cumulative_Perc'] <= 0.80,'MovieId']\n",
    "print(f'Number of movies which received 80% of the total ratings : {len(movieids_at_80)} and is {round(len(movieids_at_80)*100/df.movieId.nunique(),2)}% of total movie base')"
   ]
  },
  {
   "cell_type": "code",
   "execution_count": 7,
   "metadata": {},
   "outputs": [
    {
     "name": "stdout",
     "output_type": "stream",
     "text": [
      "Number of ratings after using top 80% users and movies : 27.85%\n"
     ]
    }
   ],
   "source": [
    "# subsetting dataset for selected userids and movieids\n",
    "\n",
    "df = df.loc[(df['userId'].isin(userids_at_80)) & (df['movieId'].isin(movieids_at_80))]\n",
    "print(f'Number of ratings after using top 80% users and movies : {df.shape[0]/number_of_ratings * 100 :.2f}%')"
   ]
  },
  {
   "cell_type": "code",
   "execution_count": 8,
   "metadata": {},
   "outputs": [],
   "source": [
    "# dividing data to train test\n",
    "from sklearn.model_selection import train_test_split\n",
    "train, test = train_test_split(df, test_size=0.2)"
   ]
  },
  {
   "cell_type": "code",
   "execution_count": 9,
   "metadata": {},
   "outputs": [],
   "source": [
    "userId_key_dict = pd.DataFrame({'userId':list(train.userId.unique()), 'newuId':list(range(len(train.userId.unique())))})\n",
    "movieId_key_dict = pd.DataFrame({'movieId':list(train.movieId.unique()), 'newmId':list(range(len(train.movieId.unique())))})\n",
    "\n",
    "train = pd.merge(train,userId_key_dict, on = 'userId', how = 'left')\n",
    "train = pd.merge(train,movieId_key_dict, on = 'movieId', how = 'left')\n",
    "\n",
    "test = pd.merge(test,userId_key_dict, on = 'userId', how = 'left')\n",
    "test = pd.merge(test,movieId_key_dict, on = 'movieId', how = 'left')"
   ]
  },
  {
   "cell_type": "code",
   "execution_count": 10,
   "metadata": {},
   "outputs": [
    {
     "data": {
      "text/html": [
       "<div>\n",
       "<style scoped>\n",
       "    .dataframe tbody tr th:only-of-type {\n",
       "        vertical-align: middle;\n",
       "    }\n",
       "\n",
       "    .dataframe tbody tr th {\n",
       "        vertical-align: top;\n",
       "    }\n",
       "\n",
       "    .dataframe thead th {\n",
       "        text-align: right;\n",
       "    }\n",
       "</style>\n",
       "<table border=\"1\" class=\"dataframe\">\n",
       "  <thead>\n",
       "    <tr style=\"text-align: right;\">\n",
       "      <th></th>\n",
       "      <th>userId</th>\n",
       "      <th>movieId</th>\n",
       "      <th>rating</th>\n",
       "      <th>newuId</th>\n",
       "      <th>newmId</th>\n",
       "    </tr>\n",
       "  </thead>\n",
       "  <tbody>\n",
       "    <tr>\n",
       "      <th>0</th>\n",
       "      <td>92200</td>\n",
       "      <td>2724</td>\n",
       "      <td>1.0</td>\n",
       "      <td>0</td>\n",
       "      <td>0</td>\n",
       "    </tr>\n",
       "    <tr>\n",
       "      <th>1</th>\n",
       "      <td>43545</td>\n",
       "      <td>1029</td>\n",
       "      <td>3.0</td>\n",
       "      <td>1</td>\n",
       "      <td>1</td>\n",
       "    </tr>\n",
       "    <tr>\n",
       "      <th>2</th>\n",
       "      <td>49068</td>\n",
       "      <td>1230</td>\n",
       "      <td>4.0</td>\n",
       "      <td>2</td>\n",
       "      <td>2</td>\n",
       "    </tr>\n",
       "    <tr>\n",
       "      <th>3</th>\n",
       "      <td>29893</td>\n",
       "      <td>778</td>\n",
       "      <td>3.5</td>\n",
       "      <td>3</td>\n",
       "      <td>3</td>\n",
       "    </tr>\n",
       "    <tr>\n",
       "      <th>4</th>\n",
       "      <td>119445</td>\n",
       "      <td>349</td>\n",
       "      <td>3.0</td>\n",
       "      <td>4</td>\n",
       "      <td>4</td>\n",
       "    </tr>\n",
       "  </tbody>\n",
       "</table>\n",
       "</div>"
      ],
      "text/plain": [
       "   userId  movieId  rating  newuId  newmId\n",
       "0   92200     2724     1.0       0       0\n",
       "1   43545     1029     3.0       1       1\n",
       "2   49068     1230     4.0       2       2\n",
       "3   29893      778     3.5       3       3\n",
       "4  119445      349     3.0       4       4"
      ]
     },
     "execution_count": 10,
     "metadata": {},
     "output_type": "execute_result"
    }
   ],
   "source": [
    "train.head()"
   ]
  },
  {
   "cell_type": "markdown",
   "metadata": {},
   "source": [
    "We will create users and movies matrix, add user and bias terms of size n and m, and average movie rating as *\"mu\"*\n",
    "\n",
    "The derivations of the same are not discussed here."
   ]
  },
  {
   "cell_type": "code",
   "execution_count": 11,
   "metadata": {},
   "outputs": [],
   "source": [
    "n = len(train.userId.unique())\n",
    "m = len(train.movieId.unique())\n",
    "mt = len(test.movieId.unique())\n",
    "d = 10\n",
    "\n",
    "wu = np.random.rand(n,d)\n",
    "wm = np.random.rand(m,d)\n",
    "\n",
    "reg = 20\n",
    "\n",
    "b = np.zeros(n)\n",
    "c = np.zeros(m)\n",
    "mu = train.rating.mean()"
   ]
  },
  {
   "cell_type": "code",
   "execution_count": 12,
   "metadata": {},
   "outputs": [],
   "source": [
    "epochs = 30"
   ]
  },
  {
   "cell_type": "code",
   "execution_count": 13,
   "metadata": {},
   "outputs": [],
   "source": [
    "def predict(u,m,mu):\n",
    "    pred = wu[u].dot(wm[m]) + b[u] + c[m] + mu\n",
    "    return pred"
   ]
  },
  {
   "cell_type": "code",
   "execution_count": 14,
   "metadata": {
    "scrolled": true
   },
   "outputs": [
    {
     "name": "stdout",
     "output_type": "stream",
     "text": [
      " training time for epoch 0 : 7.7 minutes, training loss : 0.7181454857691412 and test loss : 0.7556102492482833\n",
      " training time for epoch 1 : 7.76 minutes, training loss : 0.5593407326849406 and test loss : 0.5937724053299477\n",
      " training time for epoch 2 : 7.56 minutes, training loss : 0.5319527808173906 and test loss : 0.5664140169241839\n",
      " training time for epoch 3 : 9.18 minutes, training loss : 0.525710489335114 and test loss : 0.5597338398100957\n",
      " training time for epoch 4 : 9.53 minutes, training loss : 0.5225199608316335 and test loss : 0.5562184513109947\n",
      " training time for epoch 5 : 8.86 minutes, training loss : 0.52029971769043 and test loss : 0.5538192538093681\n",
      " training time for epoch 6 : 5.62 minutes, training loss : 0.5187254876241177 and test loss : 0.5521523815394985\n",
      " training time for epoch 7 : 5.25 minutes, training loss : 0.5176416718246749 and test loss : 0.5510142668733531\n",
      " training time for epoch 8 : 5.67 minutes, training loss : 0.5169019309952028 and test loss : 0.5502376852507326\n",
      " training time for epoch 9 : 5.61 minutes, training loss : 0.5163888634533356 and test loss : 0.5496992815303791\n",
      " training time for epoch 10 : 5.75 minutes, training loss : 0.516018604078783 and test loss : 0.5493128183477415\n",
      " training time for epoch 11 : 5.97 minutes, training loss : 0.5157360129877792 and test loss : 0.549020414869237\n",
      " training time for epoch 12 : 5.72 minutes, training loss : 0.5155067669720097 and test loss : 0.5487851476256753\n",
      " training time for epoch 13 : 4.98 minutes, training loss : 0.5153101390827335 and test loss : 0.5485845504059385\n",
      " training time for epoch 14 : 5.65 minutes, training loss : 0.5151339000841786 and test loss : 0.5484056220772457\n",
      " training time for epoch 15 : 12.93 minutes, training loss : 0.5149711592540828 and test loss : 0.548241463386319\n",
      " training time for epoch 16 : 13.22 minutes, training loss : 0.5148184962390531 and test loss : 0.5480891101237217\n",
      " training time for epoch 17 : 10.7 minutes, training loss : 0.5146747980757792 and test loss : 0.5479480617999425\n",
      " training time for epoch 18 : 10.04 minutes, training loss : 0.514540408145537 and test loss : 0.5478191651167208\n",
      " training time for epoch 19 : 9.81 minutes, training loss : 0.5144163934544582 and test loss : 0.5477037045828299\n",
      " training time for epoch 20 : 9.76 minutes, training loss : 0.5143039055771979 and test loss : 0.5476026983864625\n",
      " training time for epoch 21 : 10.22 minutes, training loss : 0.5142037059892307 and test loss : 0.5475164583296895\n",
      " training time for epoch 22 : 10.39 minutes, training loss : 0.514115923175938 and test loss : 0.5474444472740525\n",
      " training time for epoch 23 : 11.04 minutes, training loss : 0.5140400397331146 and test loss : 0.5473853936004704\n",
      " training time for epoch 24 : 10.02 minutes, training loss : 0.513975038962691 and test loss : 0.5473375563611091\n",
      " training time for epoch 25 : 6.45 minutes, training loss : 0.5139196155098528 and test loss : 0.5472990194601814\n",
      " training time for epoch 26 : 5.57 minutes, training loss : 0.5138723730624223 and test loss : 0.5472679285405582\n",
      " training time for epoch 27 : 5.62 minutes, training loss : 0.5138319692563599 and test loss : 0.5472426375270779\n",
      " training time for epoch 28 : 5.89 minutes, training loss : 0.5137972004737471 and test loss : 0.5472217720763318\n",
      " training time for epoch 29 : 5.47 minutes, training loss : 0.5137670374716959 and test loss : 0.5472042347770357\n"
     ]
    }
   ],
   "source": [
    "train_loss = []\n",
    "test_loss = []\n",
    "\n",
    "for e in range(epochs):\n",
    "\n",
    "    ts = time.process_time()\n",
    "\n",
    "    for i in range(n):\n",
    "        ratings = train.loc[train.newuId==i].rating.values\n",
    "        movies = train.loc[train.newuId==i].newmId.values\n",
    "        vector = (ratings - b[i] - c[movies] - mu).dot(wm[movies])\n",
    "        matrix = wm[movies].T.dot(wm[movies])\n",
    "        matrix = matrix + np.eye(d) + reg\n",
    "        wu[i] = np.linalg.solve(matrix,vector)\n",
    "\n",
    "        b[i] = sum(ratings - wu[i].dot(wm[movies].T) - c[movies] - mu)/(len(movies) + reg)\n",
    "\n",
    "        #if i%2000 == 0:\n",
    "        #    print(f'Completed {i*100/n:.2f}%')\n",
    "\n",
    "    for j in range(m):\n",
    "        ratings = train.loc[train.newmId==j].rating.values\n",
    "        users = train.loc[train.newmId==j].newuId.values\n",
    "        vector = (ratings - b[users] - c[j] - mu).dot(wu[users])\n",
    "        matrix = wu[users].T.dot(wu[users])\n",
    "        matrix = matrix + np.eye(d) + reg\n",
    "        wm[j] = np.linalg.solve(matrix,vector)\n",
    "\n",
    "        c[j] = sum(ratings - wm[j].dot(wu[users].T) - b[users] - mu)/(len(users) + reg)\n",
    "\n",
    "        #if j%500 == 0:\n",
    "        #    print(f'Completed {j*100/m:.2f}%')\n",
    "    \n",
    "    train_error = 0\n",
    "    test_error = 0\n",
    "    for j in range(m):\n",
    "        users = train.loc[train.newmId==j].newuId.values\n",
    "        rating = train.loc[train.newmId==j].rating.values\n",
    "        train_error += sum((predict(users,j, mu) - rating) ** 2)\n",
    "    \n",
    "    for j in range(mt):\n",
    "        users = test.loc[test.newmId==j].newuId.values\n",
    "        rating = test.loc[test.newmId==j].rating.values\n",
    "        test_error += sum((predict(users,j, mu) - rating) ** 2)\n",
    "    \n",
    "    train_loss.append(train_error/train.shape[0])\n",
    "    test_loss.append(test_error/test.shape[0])\n",
    "    te = time.process_time()\n",
    "    print(f' training time for epoch {e} : {round((te - ts)/60,2)} minutes, training loss : {train_loss[-1]} and test loss : {test_loss[-1]}')"
   ]
  },
  {
   "cell_type": "code",
   "execution_count": 15,
   "metadata": {
    "scrolled": true
   },
   "outputs": [
    {
     "data": {
      "image/png": "[encoded data removed]",
      "text/plain": [
       "<Figure size 432x288 with 1 Axes>"
      ]
     },
     "metadata": {
      "needs_background": "light"
     },
     "output_type": "display_data"
    }
   ],
   "source": [
    "%matplotlib inline\n",
    "x = list(range(epochs))\n",
    "plt.plot(x,train_loss, label='train loss')\n",
    "plt.plot(x,test_loss, label='test loss')\n",
    "plt.legend()\n",
    "plt.show()"
   ]
  },
  {
   "cell_type": "markdown",
   "metadata": {},
   "source": [
    "These train and test loss are lower than those of user - user and item - item based collborative filtering and the model takes much less time to train\n",
    "\n",
    "A keras based implementation is also possible"
   ]
  },
  {
   "cell_type": "code",
   "execution_count": null,
   "metadata": {},
   "outputs": [],
   "source": []
  }
 ],
 "metadata": {
  "kernelspec": {
   "display_name": "Python 3",
   "language": "python",
   "name": "python3"
  },
  "language_info": {
   "codemirror_mode": {
    "name": "ipython",
    "version": 3
   },
   "file_extension": ".py",
   "mimetype": "text/x-python",
   "name": "python",
   "nbconvert_exporter": "python",
   "pygments_lexer": "ipython3",
   "version": "3.8.3"
  }
 },
 "nbformat": 4,
 "nbformat_minor": 4
}
