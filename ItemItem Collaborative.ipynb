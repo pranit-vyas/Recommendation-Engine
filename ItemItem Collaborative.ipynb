{
 "cells": [
  {
   "cell_type": "markdown",
   "metadata": {},
   "source": [
    "### Collaborative Filtering (Item Based)\n",
    "We will be using movie lens dataset for trying out how item based collaborative filtering works. We will be using mulitple approaces"
   ]
  },
  {
   "cell_type": "markdown",
   "metadata": {},
   "source": [
    "1. *Item Item filtering approach*\n",
    "    * Item item filtering aims to find similar items on the basis of their ratings/clicks/views "
   ]
  },
  {
   "cell_type": "code",
   "execution_count": 1,
   "metadata": {},
   "outputs": [],
   "source": [
    "import pandas as pd\n",
    "import numpy as np\n",
    "import matplotlib.pyplot as plt\n",
    "from sklearn.model_selection import train_test_split"
   ]
  },
  {
   "cell_type": "code",
   "execution_count": 2,
   "metadata": {
    "scrolled": true
   },
   "outputs": [
    {
     "name": "stdout",
     "output_type": "stream",
     "text": [
      "<class 'pandas.core.frame.DataFrame'>\n",
      "RangeIndex: 20000263 entries, 0 to 20000262\n",
      "Data columns (total 4 columns):\n",
      "userId       int64\n",
      "movieId      int64\n",
      "rating       float64\n",
      "timestamp    object\n",
      "dtypes: float64(1), int64(2), object(1)\n",
      "memory usage: 610.4+ MB\n"
     ]
    }
   ],
   "source": [
    "df = pd.read_csv('../rating.csv')\n",
    "df.info()\n",
    "df = df.drop('timestamp',axis = 1)"
   ]
  },
  {
   "cell_type": "code",
   "execution_count": 3,
   "metadata": {},
   "outputs": [
    {
     "name": "stdout",
     "output_type": "stream",
     "text": [
      "Unique users : 138493 and unique movies : 26744\n"
     ]
    }
   ],
   "source": [
    "print(f'Unique users : {df.userId.nunique()} and unique movies : {df.movieId.nunique()}')"
   ]
  },
  {
   "cell_type": "markdown",
   "metadata": {},
   "source": [
    "Computing a 27K X 27K similarity matrix for user over 138K dimensional vector may prove to be computationally expensive, hence we will try to reduce the dataset and its sparsity by taking top users and movies"
   ]
  },
  {
   "cell_type": "code",
   "execution_count": 4,
   "metadata": {},
   "outputs": [
    {
     "name": "stdout",
     "output_type": "stream",
     "text": [
      "Number of movies which received 80% of the total ratings : 1948 and is 7.28% of total movie base\n"
     ]
    }
   ],
   "source": [
    "# Calculating cumulative percentages of ratings received at movie level\n",
    "number_of_ratings = df.shape[0]\n",
    "\n",
    "movieId_rating_count = df.movieId.value_counts().reset_index().rename(columns = {'index':'MovieId','movieId':'Cnt_Users_Rated'}).sort_values(by = 'Cnt_Users_Rated',ascending = False)\n",
    "movieId_rating_count['Cumulative_Perc'] = movieId_rating_count.Cnt_Users_Rated.cumsum()/number_of_ratings\n",
    "\n",
    "movieids_at_80 = movieId_rating_count.loc[movieId_rating_count['Cumulative_Perc'] <= 0.80,'MovieId']\n",
    "print(f'Number of movies which received 80% of the total ratings : {len(movieids_at_80)} and is {round(len(movieids_at_80)*100/df.movieId.nunique(),2)}% of total movie base')"
   ]
  },
  {
   "cell_type": "code",
   "execution_count": 5,
   "metadata": {},
   "outputs": [
    {
     "name": "stdout",
     "output_type": "stream",
     "text": [
      "Number of users who have given 40% of the total ratings : 10691 and is 7.72% of total user base\n"
     ]
    }
   ],
   "source": [
    "# Calculating cumulative percentages of ratings received at user level\n",
    "\n",
    "userId_rating_count = df.userId.value_counts().reset_index().rename(columns = {'index':'UserId','userId':'Cnt_Movies_Rated'}).sort_values(by = 'Cnt_Movies_Rated',ascending = False)\n",
    "userId_rating_count['Cumulative_Perc'] = userId_rating_count.Cnt_Movies_Rated.cumsum()/number_of_ratings\n",
    "\n",
    "userids_at_80 = userId_rating_count.loc[userId_rating_count['Cumulative_Perc'] <= 0.4,'UserId']\n",
    "print(f'Number of users who have given 40% of the total ratings : {len(userids_at_80)} and is {round(len(userids_at_80)*100/df.userId.nunique(),2)}% of total user base')"
   ]
  },
  {
   "cell_type": "code",
   "execution_count": 6,
   "metadata": {},
   "outputs": [
    {
     "name": "stdout",
     "output_type": "stream",
     "text": [
      "Number of ratings after using top 40% users and 80% movies : 27.85%\n"
     ]
    }
   ],
   "source": [
    "# subsetting dataset for selected userids and movieids\n",
    "\n",
    "df = df.loc[(df['userId'].isin(userids_at_80)) & (df['movieId'].isin(movieids_at_80))]\n",
    "print(f'Number of ratings after using top 40% users and 80% movies : {df.shape[0]/number_of_ratings * 100 :.2f}%')"
   ]
  },
  {
   "cell_type": "code",
   "execution_count": 7,
   "metadata": {},
   "outputs": [],
   "source": [
    "# Dividing in train and test\n",
    "train, test = train_test_split(df, test_size = 0.2)"
   ]
  },
  {
   "cell_type": "code",
   "execution_count": 8,
   "metadata": {},
   "outputs": [],
   "source": [
    "# Finding the average rating for each movie\n",
    "avg_ratings_train = train.groupby('movieId').agg({'rating':'mean'}).reset_index().rename(columns = {'movieId':'movieId','rating':'avg_rating'})\n",
    "avg_ratings_test = test.groupby('movieId').agg({'rating':'mean'}).reset_index().rename(columns = {'movieId':'movieId','rating':'avg_rating'})\n",
    "\n",
    "train = pd.merge(train,avg_ratings_train, on = 'movieId', how = 'left')\n",
    "train['avg_rating'] = train.avg_rating.round(5)\n",
    "train['Deviations'] = train['rating'] - train['avg_rating']\n",
    "\n",
    "test = pd.merge(test,avg_ratings_test, on = 'movieId', how = 'left')\n",
    "test['avg_rating'] = test.avg_rating.round(5)\n",
    "test['Deviations'] = test['rating'] - test['avg_rating']"
   ]
  },
  {
   "cell_type": "code",
   "execution_count": 9,
   "metadata": {},
   "outputs": [
    {
     "data": {
      "text/html": [
       "<div>\n",
       "<style scoped>\n",
       "    .dataframe tbody tr th:only-of-type {\n",
       "        vertical-align: middle;\n",
       "    }\n",
       "\n",
       "    .dataframe tbody tr th {\n",
       "        vertical-align: top;\n",
       "    }\n",
       "\n",
       "    .dataframe thead th {\n",
       "        text-align: right;\n",
       "    }\n",
       "</style>\n",
       "<table border=\"1\" class=\"dataframe\">\n",
       "  <thead>\n",
       "    <tr style=\"text-align: right;\">\n",
       "      <th></th>\n",
       "      <th>userId</th>\n",
       "      <th>movieId</th>\n",
       "      <th>rating</th>\n",
       "      <th>avg_rating</th>\n",
       "      <th>Deviations</th>\n",
       "    </tr>\n",
       "  </thead>\n",
       "  <tbody>\n",
       "    <tr>\n",
       "      <th>0</th>\n",
       "      <td>121535</td>\n",
       "      <td>1088</td>\n",
       "      <td>3.0</td>\n",
       "      <td>3.02889</td>\n",
       "      <td>-0.02889</td>\n",
       "    </tr>\n",
       "    <tr>\n",
       "      <th>1</th>\n",
       "      <td>35227</td>\n",
       "      <td>163</td>\n",
       "      <td>2.0</td>\n",
       "      <td>3.38790</td>\n",
       "      <td>-1.38790</td>\n",
       "    </tr>\n",
       "    <tr>\n",
       "      <th>2</th>\n",
       "      <td>46211</td>\n",
       "      <td>10</td>\n",
       "      <td>4.0</td>\n",
       "      <td>3.30948</td>\n",
       "      <td>0.69052</td>\n",
       "    </tr>\n",
       "    <tr>\n",
       "      <th>3</th>\n",
       "      <td>41496</td>\n",
       "      <td>3264</td>\n",
       "      <td>2.5</td>\n",
       "      <td>2.93756</td>\n",
       "      <td>-0.43756</td>\n",
       "    </tr>\n",
       "    <tr>\n",
       "      <th>4</th>\n",
       "      <td>13090</td>\n",
       "      <td>2302</td>\n",
       "      <td>3.0</td>\n",
       "      <td>3.55326</td>\n",
       "      <td>-0.55326</td>\n",
       "    </tr>\n",
       "  </tbody>\n",
       "</table>\n",
       "</div>"
      ],
      "text/plain": [
       "   userId  movieId  rating  avg_rating  Deviations\n",
       "0  121535     1088     3.0     3.02889    -0.02889\n",
       "1   35227      163     2.0     3.38790    -1.38790\n",
       "2   46211       10     4.0     3.30948     0.69052\n",
       "3   41496     3264     2.5     2.93756    -0.43756\n",
       "4   13090     2302     3.0     3.55326    -0.55326"
      ]
     },
     "execution_count": 9,
     "metadata": {},
     "output_type": "execute_result"
    }
   ],
   "source": [
    "train.head()"
   ]
  },
  {
   "cell_type": "code",
   "execution_count": 10,
   "metadata": {
    "scrolled": true
   },
   "outputs": [
    {
     "name": "stdout",
     "output_type": "stream",
     "text": [
      "Completed 10.27%\n",
      "Completed 20.53%\n",
      "Completed 30.80%\n",
      "Completed 41.07%\n",
      "Completed 51.33%\n",
      "Completed 61.60%\n",
      "Completed 71.87%\n",
      "Completed 82.14%\n",
      "Completed 92.40%\n"
     ]
    }
   ],
   "source": [
    "import time\n",
    "\n",
    "t = time.process_time()\n",
    "min_user_cnt = 5\n",
    "movie_nn_weights = {}\n",
    "nn = 50\n",
    "counter = 0\n",
    "train_id_len = len(train.movieId.unique())\n",
    "\n",
    "for i in train.movieId.unique():\n",
    "    u_id = set(train[train.movieId==i]['userId'].values)  ## all the users who have rated the movie i\n",
    "    temp = train.loc[train.userId.isin(u_id)] ## all the movies rated by users who also rated movie i\n",
    "    m_id = temp.groupby('movieId').agg({'userId':'count'}).reset_index().query('userId > @min_user_cnt').movieId.values\n",
    "    \n",
    "    temp = temp.loc[temp.movieId.isin(m_id)]\n",
    "    temp = temp.pivot(index = 'userId',columns = 'movieId', values = 'rating')\n",
    "    \n",
    "    corr_df = temp.drop(i, axis = 1).apply(lambda x: round(x.corr(temp[i]),5)).reset_index().rename(columns = {'movieId':'movieId',0:'Corr'})\n",
    "    corr_df['ab_corr'] = abs(corr_df['Corr'])\n",
    "    #corr_df = corr_df.loc[corr_df.movieId!= i]\n",
    "    corr_df = corr_df.sort_values(by = 'ab_corr',ascending = False).head(nn)\n",
    "\n",
    "    movie_nn_weights[i] = tuple(zip(corr_df.movieId,corr_df.Corr))\n",
    "    counter += 1\n",
    "    if counter%200 == 0:\n",
    "        print(f'Completed {counter*100/train_id_len:.2f}%')"
   ]
  },
  {
   "cell_type": "code",
   "execution_count": 11,
   "metadata": {},
   "outputs": [
    {
     "data": {
      "text/plain": [
       "4507.8125"
      ]
     },
     "execution_count": 11,
     "metadata": {},
     "output_type": "execute_result"
    }
   ],
   "source": [
    "elapsed_time = time.process_time() - t\n",
    "elapsed_time"
   ]
  },
  {
   "cell_type": "code",
   "execution_count": 12,
   "metadata": {},
   "outputs": [],
   "source": [
    "import pickle\n",
    "with open('movie_nn_weights_1948_50nn.json', 'wb') as f:\n",
    "  pickle.dump(movie_nn_weights, f)"
   ]
  },
  {
   "cell_type": "code",
   "execution_count": 13,
   "metadata": {},
   "outputs": [],
   "source": [
    "user_movie_index_train = {}\n",
    "\n",
    "for i in train.userId.unique():\n",
    "    user_movie_index_train[i] = train.index[train.userId==i]"
   ]
  },
  {
   "cell_type": "code",
   "execution_count": 14,
   "metadata": {},
   "outputs": [],
   "source": [
    "user_movie_index_test = {}\n",
    "\n",
    "for i in test.userId.unique():\n",
    "    user_movie_index_test[i] = test.index[test.userId==i]"
   ]
  },
  {
   "cell_type": "code",
   "execution_count": 15,
   "metadata": {},
   "outputs": [],
   "source": [
    "def predict_rating(j,u,data,user_movie_index, weights, nn,avg_ratings):\n",
    "\n",
    "    nn_weights = {}\n",
    "    for m,c in weights[j]:\n",
    "        nn_weights[m] = c\n",
    "    \n",
    "    nn_weights = pd.DataFrame.from_dict(nn_weights,orient = 'index',columns = ['weight']).reset_index().rename(columns = {'index':'movieId','weight':'weight'})\n",
    "    nn_weights = nn_weights.head(nn)\n",
    "    ##uj_m = data.loc[data.movieId==m]\n",
    "    mj_u = data.loc[user_movie_index[u]]\n",
    "    mj_u = pd.merge(mj_u, nn_weights, on = 'movieId', how = 'inner')\n",
    "\n",
    "    ####nn_uj_m = set(nn_m) & set(uj_m)\n",
    "\n",
    "    moviej_avg_rating = avg_ratings[avg_ratings.movieId==j]['avg_rating'].values\n",
    "    if len(mj_u):\n",
    "        prediction = moviej_avg_rating + sum(mj_u.Deviations * mj_u.weight)/abs(mj_u.weight).sum()\n",
    "    else:\n",
    "        prediction = moviej_avg_rating\n",
    "    \n",
    "    return(prediction[0],len(mj_u))\n",
    "    #return(nn_weights)"
   ]
  },
  {
   "cell_type": "code",
   "execution_count": 16,
   "metadata": {},
   "outputs": [
    {
     "name": "stdout",
     "output_type": "stream",
     "text": [
      "(4.105791211719914, 20)\n"
     ]
    },
    {
     "data": {
      "text/plain": [
       "0.28125"
      ]
     },
     "execution_count": 16,
     "metadata": {},
     "output_type": "execute_result"
    }
   ],
   "source": [
    "start = time.process_time()\n",
    "print(predict_rating(1270,131896,train,user_movie_index_train,movie_nn_weights,45,avg_ratings_train))\n",
    "time.process_time() - start"
   ]
  },
  {
   "cell_type": "code",
   "execution_count": 17,
   "metadata": {},
   "outputs": [
    {
     "name": "stdout",
     "output_type": "stream",
     "text": [
      "Completed 22.45%\n",
      "Completed 44.89%\n",
      "Completed 67.34%\n",
      "Completed 89.78%\n",
      "Completed training mse for 20 neighbours and mse is 0.5926491899669095\n",
      "Completed 22.45%\n",
      "Completed 44.89%\n",
      "Completed 67.34%\n",
      "Completed 89.78%\n",
      "Completed training mse for 25 neighbours and mse is 0.5727833571449584\n",
      "Completed 22.45%\n",
      "Completed 44.89%\n",
      "Completed 67.34%\n",
      "Completed 89.78%\n",
      "Completed training mse for 30 neighbours and mse is 0.5581326957424197\n",
      "Completed 22.45%\n",
      "Completed 44.89%\n",
      "Completed 67.34%\n",
      "Completed 89.78%\n",
      "Completed training mse for 35 neighbours and mse is 0.547439182268991\n",
      "Completed 22.45%\n",
      "Completed 44.89%\n",
      "Completed 67.34%\n",
      "Completed 89.78%\n",
      "Completed training mse for 40 neighbours and mse is 0.5396853373112157\n",
      "Completed 22.45%\n",
      "Completed 44.89%\n",
      "Completed 67.34%\n",
      "Completed 89.78%\n",
      "Completed training mse for 45 neighbours and mse is 0.533618419068352\n",
      "Completed 22.45%\n",
      "Completed 44.89%\n",
      "Completed 67.34%\n",
      "Completed 89.78%\n",
      "Completed training mse for 50 neighbours and mse is 0.5290080976100414\n"
     ]
    },
    {
     "data": {
      "text/plain": [
       "151902.890625"
      ]
     },
     "execution_count": 17,
     "metadata": {},
     "output_type": "execute_result"
    }
   ],
   "source": [
    "from IPython.display import clear_output\n",
    "start = time.process_time()\n",
    "\n",
    "train_mse = {}\n",
    "\n",
    "for j in range(20,55,5):\n",
    "    counter = 0\n",
    "    pred_train = []\n",
    "    nn_used_for_prediction = []\n",
    "    for i, m in list(zip(train.movieId,train.userId)):\n",
    "        p, n = predict_rating(i,m,train,user_movie_index_train,movie_nn_weights,j,avg_ratings_train)\n",
    "        pred_train.append(p)\n",
    "        nn_used_for_prediction.append(n)\n",
    "        counter += 1\n",
    "        if counter%1000000==0:\n",
    "            print(f'Completed {counter*100/len(train):.2f}%')\n",
    "    \n",
    "    \n",
    "    train['Predictions'] = pred_train\n",
    "    train['nn'] = nn_used_for_prediction\n",
    "    mse = ((train.rating - train.Predictions)**2).mean()\n",
    "    train_mse[j] = mse\n",
    "    print(f'Completed training mse for {j} neighbours and mse is {mse}')\n",
    "\n",
    "time.process_time() - start"
   ]
  },
  {
   "cell_type": "code",
   "execution_count": 18,
   "metadata": {},
   "outputs": [
    {
     "name": "stdout",
     "output_type": "stream",
     "text": [
      "Completed 17.96%\n",
      "Completed 35.91%\n",
      "Completed 53.87%\n",
      "Completed 71.82%\n",
      "Completed 89.78%\n",
      "Completed test mse for 20 neighbours and mse is 0.8267197277795809\n",
      "Completed 17.96%\n",
      "Completed 35.91%\n",
      "Completed 53.87%\n",
      "Completed 71.82%\n",
      "Completed 89.78%\n",
      "Completed test mse for 25 neighbours and mse is 0.8150524599661931\n",
      "Completed 17.96%\n",
      "Completed 35.91%\n",
      "Completed 53.87%\n",
      "Completed 71.82%\n",
      "Completed 89.78%\n",
      "Completed test mse for 30 neighbours and mse is 0.8021702011856923\n",
      "Completed 17.96%\n",
      "Completed 35.91%\n",
      "Completed 53.87%\n",
      "Completed 71.82%\n",
      "Completed 89.78%\n",
      "Completed test mse for 35 neighbours and mse is 0.7878170580161604\n",
      "Completed 17.96%\n",
      "Completed 35.91%\n",
      "Completed 53.87%\n",
      "Completed 71.82%\n",
      "Completed 89.78%\n",
      "Completed test mse for 40 neighbours and mse is 0.7745713685189974\n",
      "Completed 17.96%\n",
      "Completed 35.91%\n",
      "Completed 53.87%\n",
      "Completed 71.82%\n",
      "Completed 89.78%\n",
      "Completed test mse for 45 neighbours and mse is 0.7615432121858821\n",
      "Completed 17.96%\n",
      "Completed 35.91%\n",
      "Completed 53.87%\n",
      "Completed 71.82%\n",
      "Completed 89.78%\n",
      "Completed test mse for 50 neighbours and mse is 0.7500070633062024\n"
     ]
    },
    {
     "data": {
      "text/plain": [
       "36490.09375"
      ]
     },
     "execution_count": 18,
     "metadata": {},
     "output_type": "execute_result"
    }
   ],
   "source": [
    "from IPython.display import clear_output\n",
    "start = time.process_time()\n",
    "\n",
    "test_mse = {}\n",
    "\n",
    "for j in range(20,55,5):\n",
    "    counter = 0\n",
    "    pred_test = []\n",
    "    nn_used_for_prediction = []\n",
    "    for i, m in list(zip(test.movieId,test.userId)):\n",
    "        p, n = predict_rating(i,m,test,user_movie_index_test,movie_nn_weights,j,avg_ratings_test)\n",
    "        pred_test.append(p)\n",
    "        nn_used_for_prediction.append(n)\n",
    "        counter += 1\n",
    "        if counter%200000==0:\n",
    "            print(f'Completed {counter*100/len(test):.2f}%')\n",
    "    \n",
    "    \n",
    "    test['Predictions'] = pred_test\n",
    "    test['nn'] = nn_used_for_prediction\n",
    "    mse = ((test.rating - test.Predictions)**2).mean()\n",
    "    test_mse[j] = mse\n",
    "    print(f'Completed test mse for {j} neighbours and mse is {mse}')\n",
    "\n",
    "time.process_time() - start"
   ]
  },
  {
   "cell_type": "code",
   "execution_count": 19,
   "metadata": {
    "scrolled": true
   },
   "outputs": [
    {
     "data": {
      "image/png": "[encoded data removed]",
      "text/plain": [
       "<Figure size 432x288 with 1 Axes>"
      ]
     },
     "metadata": {
      "needs_background": "light"
     },
     "output_type": "display_data"
    }
   ],
   "source": [
    "%matplotlib inline\n",
    "import matplotlib.pyplot as plt\n",
    "import numpy as np\n",
    "\n",
    "x = list(range(20,55,5))\n",
    "plt.plot(x,train_mse.values(), label='train mse')\n",
    "plt.plot(x,test_mse.values(), label='test mse')\n",
    "plt.ylim([0, 1])\n",
    "#plt.xticks(x, labels, rotation ='vertical')\n",
    "plt.legend()\n",
    "plt.show()"
   ]
  },
  {
   "cell_type": "code",
   "execution_count": 20,
   "metadata": {},
   "outputs": [
    {
     "data": {
      "text/plain": [
       "(0.727329428532932, 0.8660294817765746)"
      ]
     },
     "execution_count": 20,
     "metadata": {},
     "output_type": "execute_result"
    }
   ],
   "source": [
    "np.sqrt(train_mse[50]),np.sqrt(test_mse[50])"
   ]
  },
  {
   "cell_type": "markdown",
   "metadata": {},
   "source": [
    "In the benchmark range of [0.83 - 0.86]"
   ]
  },
  {
   "cell_type": "code",
   "execution_count": 24,
   "metadata": {},
   "outputs": [],
   "source": [
    "train['se'] = abs(train.rating - train.Predictions)\n",
    "test['se'] = abs(test.rating - test.Predictions)"
   ]
  },
  {
   "cell_type": "code",
   "execution_count": 25,
   "metadata": {},
   "outputs": [
    {
     "data": {
      "text/plain": [
       "<matplotlib.axes._subplots.AxesSubplot at 0x1f62a4f6ef0>"
      ]
     },
     "execution_count": 25,
     "metadata": {},
     "output_type": "execute_result"
    },
    {
     "data": {
      "image/png": "[encoded data removed]",
      "text/plain": [
       "<Figure size 432x288 with 1 Axes>"
      ]
     },
     "metadata": {
      "needs_background": "light"
     },
     "output_type": "display_data"
    }
   ],
   "source": [
    "train.groupby('nn').agg({'se':'mean'}).plot()"
   ]
  },
  {
   "cell_type": "code",
   "execution_count": 26,
   "metadata": {},
   "outputs": [
    {
     "data": {
      "text/plain": [
       "<matplotlib.axes._subplots.AxesSubplot at 0x1f60aea04e0>"
      ]
     },
     "execution_count": 26,
     "metadata": {},
     "output_type": "execute_result"
    },
    {
     "data": {
      "image/png": "[encoded data removed]",
      "text/plain": [
       "<Figure size 432x288 with 1 Axes>"
      ]
     },
     "metadata": {
      "needs_background": "light"
     },
     "output_type": "display_data"
    }
   ],
   "source": [
    "test.groupby('nn').agg({'se':'mean'}).plot()"
   ]
  },
  {
   "cell_type": "code",
   "execution_count": null,
   "metadata": {},
   "outputs": [],
   "source": []
  }
 ],
 "metadata": {
  "kernelspec": {
   "display_name": "Python 3",
   "language": "python",
   "name": "python3"
  },
  "language_info": {
   "codemirror_mode": {
    "name": "ipython",
    "version": 3
   },
   "file_extension": ".py",
   "mimetype": "text/x-python",
   "name": "python",
   "nbconvert_exporter": "python",
   "pygments_lexer": "ipython3",
   "version": "3.6.4"
  }
 },
 "nbformat": 4,
 "nbformat_minor": 4
}
