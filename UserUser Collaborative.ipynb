{
 "cells": [
  {
   "cell_type": "markdown",
   "metadata": {},
   "source": [
    " ### Collaborative Filtering\n",
    " \n",
    "We will be using movie lens dataset for trying out how collaborative filtering works. We will be using mulitple approaces"
   ]
  },
  {
   "cell_type": "markdown",
   "metadata": {},
   "source": [
    "1. *User user filtering approach*\n",
    "    - User user filtering aims to find similar users on the basis of their ratings/clicks/views to a particualr item or content\n",
    "    - We can chose to reduce user bias towards ratings (recommended)"
   ]
  },
  {
   "cell_type": "code",
   "execution_count": 1,
   "metadata": {},
   "outputs": [],
   "source": [
    "import pandas as pd\n",
    "import numpy as np"
   ]
  },
  {
   "cell_type": "code",
   "execution_count": 2,
   "metadata": {
    "scrolled": false
   },
   "outputs": [
    {
     "name": "stdout",
     "output_type": "stream",
     "text": [
      "<class 'pandas.core.frame.DataFrame'>\n",
      "RangeIndex: 20000263 entries, 0 to 20000262\n",
      "Data columns (total 4 columns):\n",
      "userId       int64\n",
      "movieId      int64\n",
      "rating       float64\n",
      "timestamp    object\n",
      "dtypes: float64(1), int64(2), object(1)\n",
      "memory usage: 610.4+ MB\n"
     ]
    }
   ],
   "source": [
    "# reading movie lens dataset\n",
    "\n",
    "df = pd.read_csv(r'../rating.csv')\n",
    "df.info()"
   ]
  },
  {
   "cell_type": "code",
   "execution_count": 3,
   "metadata": {},
   "outputs": [],
   "source": [
    "# converting int ids to strings to avoid any errors/miscalculations\n",
    "\n",
    "df = df.drop('timestamp',axis = 1)\n",
    "number_of_ratings  = df.shape[0]"
   ]
  },
  {
   "cell_type": "code",
   "execution_count": 4,
   "metadata": {},
   "outputs": [
    {
     "data": {
      "text/html": [
       "<div>\n",
       "<style scoped>\n",
       "    .dataframe tbody tr th:only-of-type {\n",
       "        vertical-align: middle;\n",
       "    }\n",
       "\n",
       "    .dataframe tbody tr th {\n",
       "        vertical-align: top;\n",
       "    }\n",
       "\n",
       "    .dataframe thead th {\n",
       "        text-align: right;\n",
       "    }\n",
       "</style>\n",
       "<table border=\"1\" class=\"dataframe\">\n",
       "  <thead>\n",
       "    <tr style=\"text-align: right;\">\n",
       "      <th></th>\n",
       "      <th>userId</th>\n",
       "      <th>movieId</th>\n",
       "      <th>rating</th>\n",
       "    </tr>\n",
       "  </thead>\n",
       "  <tbody>\n",
       "    <tr>\n",
       "      <th>0</th>\n",
       "      <td>1</td>\n",
       "      <td>2</td>\n",
       "      <td>3.5</td>\n",
       "    </tr>\n",
       "    <tr>\n",
       "      <th>1</th>\n",
       "      <td>1</td>\n",
       "      <td>29</td>\n",
       "      <td>3.5</td>\n",
       "    </tr>\n",
       "    <tr>\n",
       "      <th>2</th>\n",
       "      <td>1</td>\n",
       "      <td>32</td>\n",
       "      <td>3.5</td>\n",
       "    </tr>\n",
       "    <tr>\n",
       "      <th>3</th>\n",
       "      <td>1</td>\n",
       "      <td>47</td>\n",
       "      <td>3.5</td>\n",
       "    </tr>\n",
       "    <tr>\n",
       "      <th>4</th>\n",
       "      <td>1</td>\n",
       "      <td>50</td>\n",
       "      <td>3.5</td>\n",
       "    </tr>\n",
       "  </tbody>\n",
       "</table>\n",
       "</div>"
      ],
      "text/plain": [
       "   userId  movieId  rating\n",
       "0       1        2     3.5\n",
       "1       1       29     3.5\n",
       "2       1       32     3.5\n",
       "3       1       47     3.5\n",
       "4       1       50     3.5"
      ]
     },
     "execution_count": 4,
     "metadata": {},
     "output_type": "execute_result"
    }
   ],
   "source": [
    "df.head()"
   ]
  },
  {
   "cell_type": "code",
   "execution_count": 5,
   "metadata": {
    "scrolled": true
   },
   "outputs": [
    {
     "name": "stdout",
     "output_type": "stream",
     "text": [
      "Unique users : 138493 and unique movies : 26744\n"
     ]
    }
   ],
   "source": [
    "print(f'Unique users : {df.userId.nunique()} and unique movies : {df.movieId.nunique()}')"
   ]
  },
  {
   "cell_type": "markdown",
   "metadata": {},
   "source": [
    "Computing a 138K X 138K similarity matrix for user over 27K dimensional vector may prove to be computationally expensive, hence we will try to reduce the dataset and its sparsity by taking top users and movies"
   ]
  },
  {
   "cell_type": "code",
   "execution_count": 6,
   "metadata": {},
   "outputs": [
    {
     "name": "stdout",
     "output_type": "stream",
     "text": [
      "Number of users who have given 40% of the total ratings : 10691 and is 7.72% of total user base\n"
     ]
    }
   ],
   "source": [
    "# Calculating cumulative percentages of ratings received at user level\n",
    "\n",
    "userId_rating_count = df.userId.value_counts().reset_index().rename(columns = {'index':'UserId','userId':'Cnt_Movies_Rated'}).sort_values(by = 'Cnt_Movies_Rated',ascending = False)\n",
    "userId_rating_count['Cumulative_Perc'] = userId_rating_count.Cnt_Movies_Rated.cumsum()/number_of_ratings\n",
    "\n",
    "userids_at_80 = userId_rating_count.loc[userId_rating_count['Cumulative_Perc'] <= 0.4,'UserId']\n",
    "print(f'Number of users who have given 40% of the total ratings : {len(userids_at_80)} and is {round(len(userids_at_80)*100/df.userId.nunique(),2)}% of total user base')"
   ]
  },
  {
   "cell_type": "code",
   "execution_count": 7,
   "metadata": {},
   "outputs": [
    {
     "name": "stdout",
     "output_type": "stream",
     "text": [
      "Number of movies which received 80% of the total ratings : 1948 and is 7.28% of total movie base\n"
     ]
    }
   ],
   "source": [
    "# Calculating cumulative percentages of ratings received at movie level\n",
    "\n",
    "movieId_rating_count = df.movieId.value_counts().reset_index().rename(columns = {'index':'MovieId','movieId':'Cnt_Users_Rated'}).sort_values(by = 'Cnt_Users_Rated',ascending = False)\n",
    "movieId_rating_count['Cumulative_Perc'] = movieId_rating_count.Cnt_Users_Rated.cumsum()/number_of_ratings\n",
    "\n",
    "movieids_at_80 = movieId_rating_count.loc[movieId_rating_count['Cumulative_Perc'] <= 0.80,'MovieId']\n",
    "print(f'Number of movies which received 80% of the total ratings : {len(movieids_at_80)} and is {round(len(movieids_at_80)*100/df.movieId.nunique(),2)}% of total movie base')"
   ]
  },
  {
   "cell_type": "code",
   "execution_count": 8,
   "metadata": {},
   "outputs": [
    {
     "name": "stdout",
     "output_type": "stream",
     "text": [
      "Number of ratings after using top 80% users and movies : 27.85%\n"
     ]
    }
   ],
   "source": [
    "# subsetting dataset for selected userids and movieids\n",
    "\n",
    "df = df.loc[(df['userId'].isin(userids_at_80)) & (df['movieId'].isin(movieids_at_80))]\n",
    "print(f'Number of ratings after using top 80% users and movies : {df.shape[0]/number_of_ratings * 100 :.2f}%')"
   ]
  },
  {
   "cell_type": "code",
   "execution_count": 9,
   "metadata": {},
   "outputs": [],
   "source": [
    "# dividing data to train test\n",
    "from sklearn.model_selection import train_test_split\n",
    "\n",
    "train, test = train_test_split(df, test_size=0.2)"
   ]
  },
  {
   "cell_type": "code",
   "execution_count": 10,
   "metadata": {
    "scrolled": false
   },
   "outputs": [
    {
     "data": {
      "text/html": [
       "<div>\n",
       "<style scoped>\n",
       "    .dataframe tbody tr th:only-of-type {\n",
       "        vertical-align: middle;\n",
       "    }\n",
       "\n",
       "    .dataframe tbody tr th {\n",
       "        vertical-align: top;\n",
       "    }\n",
       "\n",
       "    .dataframe thead th {\n",
       "        text-align: right;\n",
       "    }\n",
       "</style>\n",
       "<table border=\"1\" class=\"dataframe\">\n",
       "  <thead>\n",
       "    <tr style=\"text-align: right;\">\n",
       "      <th></th>\n",
       "      <th>userId</th>\n",
       "      <th>movieId</th>\n",
       "      <th>rating</th>\n",
       "      <th>avg_rating</th>\n",
       "      <th>Deviations</th>\n",
       "    </tr>\n",
       "  </thead>\n",
       "  <tbody>\n",
       "    <tr>\n",
       "      <th>0</th>\n",
       "      <td>67947</td>\n",
       "      <td>2858</td>\n",
       "      <td>4.5</td>\n",
       "      <td>3.54114</td>\n",
       "      <td>0.95886</td>\n",
       "    </tr>\n",
       "    <tr>\n",
       "      <th>1</th>\n",
       "      <td>21215</td>\n",
       "      <td>2683</td>\n",
       "      <td>3.5</td>\n",
       "      <td>3.78342</td>\n",
       "      <td>-0.28342</td>\n",
       "    </tr>\n",
       "    <tr>\n",
       "      <th>2</th>\n",
       "      <td>97932</td>\n",
       "      <td>628</td>\n",
       "      <td>4.0</td>\n",
       "      <td>3.32903</td>\n",
       "      <td>0.67097</td>\n",
       "    </tr>\n",
       "    <tr>\n",
       "      <th>3</th>\n",
       "      <td>97738</td>\n",
       "      <td>3173</td>\n",
       "      <td>2.5</td>\n",
       "      <td>3.47097</td>\n",
       "      <td>-0.97097</td>\n",
       "    </tr>\n",
       "    <tr>\n",
       "      <th>4</th>\n",
       "      <td>71992</td>\n",
       "      <td>67255</td>\n",
       "      <td>4.0</td>\n",
       "      <td>3.70998</td>\n",
       "      <td>0.29002</td>\n",
       "    </tr>\n",
       "  </tbody>\n",
       "</table>\n",
       "</div>"
      ],
      "text/plain": [
       "   userId  movieId  rating  avg_rating  Deviations\n",
       "0   67947     2858     4.5     3.54114     0.95886\n",
       "1   21215     2683     3.5     3.78342    -0.28342\n",
       "2   97932      628     4.0     3.32903     0.67097\n",
       "3   97738     3173     2.5     3.47097    -0.97097\n",
       "4   71992    67255     4.0     3.70998     0.29002"
      ]
     },
     "execution_count": 10,
     "metadata": {},
     "output_type": "execute_result"
    }
   ],
   "source": [
    "avg_ratings_train = train.groupby('userId')['rating'].mean().reset_index().rename(columns = {'userId':'userId','rating':'avg_rating'})\n",
    "avg_ratings_test = test.groupby('userId')['rating'].mean().reset_index().rename(columns = {'userId':'userId','rating':'avg_rating'})\n",
    "\n",
    "train = pd.merge(train,avg_ratings_train, on = 'userId', how = 'left')\n",
    "train['avg_rating'] = train.avg_rating.round(5)\n",
    "train['Deviations'] = train['rating'] - train['avg_rating']\n",
    "\n",
    "test = pd.merge(test,avg_ratings_test, on = 'userId', how = 'left')\n",
    "test['avg_rating'] = test.avg_rating.round(5)\n",
    "test['Deviations'] = test['rating'] - test['avg_rating']\n",
    "\n",
    "train.head()"
   ]
  },
  {
   "cell_type": "code",
   "execution_count": null,
   "metadata": {},
   "outputs": [],
   "source": []
  },
  {
   "cell_type": "code",
   "execution_count": 11,
   "metadata": {},
   "outputs": [],
   "source": [
    "avg_ratings_train = train[['userId','avg_rating']].drop_duplicates()\n",
    "avg_ratings_test = test[['userId','avg_rating']].drop_duplicates()"
   ]
  },
  {
   "cell_type": "markdown",
   "metadata": {},
   "source": [
    "#### We can use correlation matrix calculation over the total data set but it may seem unnecessary due to space complexity \n",
    "\n",
    "* Using a minimum 20 movies in common between 2 users to calculate their correlation\n",
    "* A minimum of 25 nearest neighbours to be considered for predictions"
   ]
  },
  {
   "cell_type": "code",
   "execution_count": 14,
   "metadata": {},
   "outputs": [
    {
     "name": "stdout",
     "output_type": "stream",
     "text": [
      "Completed 9.35%\n",
      "Completed 18.71%\n",
      "Completed 28.06%\n",
      "Completed 37.41%\n",
      "Completed 46.77%\n",
      "Completed 56.12%\n",
      "Completed 65.48%\n",
      "Completed 74.83%\n",
      "Completed 84.18%\n",
      "Completed 93.54%\n"
     ]
    }
   ],
   "source": [
    "import time\n",
    "\n",
    "t = time.process_time()\n",
    "\n",
    "min_movie_cnt = 20\n",
    "nn = 50\n",
    "user_nn_weights = {}\n",
    "counter = 0\n",
    "\n",
    "train_id_len = len(train.userId.unique())\n",
    "\n",
    "for i in train.userId.unique():\n",
    "    \n",
    "    movie_i = set(train[train.userId==i]['movieId'].values)\n",
    "    useri_movie = train[train.movieId.isin(movie_i)]\n",
    "    users = useri_movie.userId.value_counts().to_frame().query('userId > @min_movie_cnt').index\n",
    "    useri_movie = useri_movie.loc[(train.userId.isin(users))]\n",
    "    useri_movie_pivot = useri_movie.pivot(index = 'movieId', columns = 'userId', values = 'rating')\n",
    "    \n",
    "    corr_useri_j = useri_movie_pivot.drop(i,axis = 1).apply(lambda x: round(x.corr(useri_movie_pivot[i]),5)).reset_index().rename(columns={'userId':'userId_j',0:'Corr'})\n",
    "    corr_useri_j['ab_corr'] = abs(corr_useri_j['Corr'])\n",
    "    corr_useri_j = corr_useri_j.sort_values(by = 'ab_corr',ascending = False).head(nn)\n",
    "    \n",
    "    user_nn_weights[i] = tuple(zip(corr_useri_j.userId_j,corr_useri_j.Corr))\n",
    "    counter += 1\n",
    "    if counter%1000 == 0:\n",
    "        print(f'Completed {counter*100/train_id_len:.2f}%')"
   ]
  },
  {
   "cell_type": "code",
   "execution_count": 15,
   "metadata": {},
   "outputs": [
    {
     "data": {
      "text/plain": [
       "54483.453125"
      ]
     },
     "execution_count": 15,
     "metadata": {},
     "output_type": "execute_result"
    }
   ],
   "source": [
    "elapsed_time = time.process_time() - t\n",
    "elapsed_time"
   ]
  },
  {
   "cell_type": "code",
   "execution_count": 16,
   "metadata": {},
   "outputs": [],
   "source": [
    "import pickle\n",
    "with open('user_nn_weights_10691_50nn.json', 'wb') as f:\n",
    "  pickle.dump(user_nn_weights, f)"
   ]
  },
  {
   "cell_type": "code",
   "execution_count": null,
   "metadata": {},
   "outputs": [],
   "source": [
    "#rating_dict_train = train[['userId','movieId','rating']].to_dict()"
   ]
  },
  {
   "cell_type": "code",
   "execution_count": 17,
   "metadata": {
    "scrolled": true
   },
   "outputs": [
    {
     "name": "stdout",
     "output_type": "stream",
     "text": [
      "8.28 ms ± 618 µs per loop (mean ± std. dev. of 7 runs, 100 loops each)\n"
     ]
    }
   ],
   "source": [
    "#len(movie_user_index_train), len(train1.movieId.unique())\n",
    "\n",
    "from timeit import timeit\n",
    "%timeit train.index[train.movieId==1307]\n"
   ]
  },
  {
   "cell_type": "code",
   "execution_count": 18,
   "metadata": {},
   "outputs": [
    {
     "name": "stdout",
     "output_type": "stream",
     "text": [
      "22.6 ms ± 586 µs per loop (mean ± std. dev. of 7 runs, 10 loops each)\n"
     ]
    }
   ],
   "source": [
    "train1 = train.copy()\n",
    "train1.movieId = train1.movieId.astype('category')\n",
    "train1.userId = train1.userId.astype('category')\n",
    "\n",
    "from timeit import timeit\n",
    "%timeit train1.index[train1.movieId==\"001307\"]"
   ]
  },
  {
   "cell_type": "markdown",
   "metadata": {},
   "source": [
    "Multiple subsets of datasets will be faster if the id's are *integers*, if they were in *object* type then cpnversion to *category* type would be beneficial"
   ]
  },
  {
   "cell_type": "code",
   "execution_count": 19,
   "metadata": {},
   "outputs": [],
   "source": [
    "movie_user_index_train = {}\n",
    "\n",
    "for i in train.movieId.unique():\n",
    "    movie_user_index_train[i] = train.index[train.movieId==i]\n"
   ]
  },
  {
   "cell_type": "code",
   "execution_count": 20,
   "metadata": {},
   "outputs": [],
   "source": [
    "movie_user_index_test = {}\n",
    "\n",
    "for i in test.movieId.unique():\n",
    "    movie_user_index_test[i] = test.index[test.movieId==i]"
   ]
  },
  {
   "cell_type": "code",
   "execution_count": 21,
   "metadata": {},
   "outputs": [
    {
     "data": {
      "text/plain": [
       "(1948, 1948)"
      ]
     },
     "execution_count": 21,
     "metadata": {},
     "output_type": "execute_result"
    }
   ],
   "source": [
    "len(movie_user_index_test), len(test.movieId.unique())"
   ]
  },
  {
   "cell_type": "code",
   "execution_count": 22,
   "metadata": {},
   "outputs": [],
   "source": [
    "def predict_rating(i,m,data,movie_user_index, weights, nn,avg_ratings):\n",
    "    nn_weights = {}\n",
    "    for u,c in weights[i]:\n",
    "        nn_weights[u] = c\n",
    "\n",
    "    nn_weights = pd.DataFrame.from_dict(nn_weights,orient = 'index',columns = ['weight']).reset_index().rename(columns = {'index':'userId','weight':'weight'})\n",
    "    nn_weights = nn_weights.head(nn)\n",
    "    #uj_m = data.loc[data.movieId==m]\n",
    "    uj_m = data.loc[movie_user_index[m]]\n",
    "    uj_m = pd.merge(uj_m, nn_weights, on = 'userId', how = 'inner')\n",
    "\n",
    "    ####nn_uj_m = set(nn_m) & set(uj_m)\n",
    "\n",
    "    useri_avg_rating = avg_ratings[avg_ratings.userId==i]['avg_rating'].values\n",
    "    if len(uj_m):\n",
    "        prediction = useri_avg_rating + sum(uj_m.Deviations * uj_m.weight)/abs(uj_m.weight).sum()\n",
    "    else:\n",
    "        prediction = useri_avg_rating\n",
    "    \n",
    "    return(prediction[0],len(uj_m))\n",
    "    #return(uj_m)"
   ]
  },
  {
   "cell_type": "code",
   "execution_count": 23,
   "metadata": {
    "scrolled": true
   },
   "outputs": [
    {
     "name": "stdout",
     "output_type": "stream",
     "text": [
      "Completed 22.45%\n",
      "Completed 44.89%\n",
      "Completed 67.34%\n",
      "Completed 89.78%\n",
      "Completed training mse for 20 neighbours\n",
      "Completed 22.45%\n",
      "Completed 44.89%\n",
      "Completed 67.34%\n",
      "Completed 89.78%\n",
      "Completed training mse for 25 neighbours\n",
      "Completed 22.45%\n",
      "Completed 44.89%\n",
      "Completed 67.34%\n",
      "Completed 89.78%\n",
      "Completed training mse for 30 neighbours\n",
      "Completed 22.45%\n",
      "Completed 44.89%\n",
      "Completed 67.34%\n",
      "Completed 89.78%\n",
      "Completed training mse for 35 neighbours\n",
      "Completed 22.45%\n",
      "Completed 44.89%\n",
      "Completed 67.34%\n",
      "Completed 89.78%\n",
      "Completed training mse for 40 neighbours\n",
      "Completed 22.45%\n",
      "Completed 44.89%\n",
      "Completed 67.34%\n",
      "Completed 89.78%\n",
      "Completed training mse for 45 neighbours\n",
      "Completed 22.45%\n",
      "Completed 44.89%\n",
      "Completed 67.34%\n",
      "Completed 89.78%\n",
      "Completed training mse for 50 neighbours\n"
     ]
    },
    {
     "data": {
      "text/plain": [
       "172571.171875"
      ]
     },
     "execution_count": 23,
     "metadata": {},
     "output_type": "execute_result"
    }
   ],
   "source": [
    "from IPython.display import clear_output\n",
    "start = time.process_time()\n",
    "\n",
    "train_mse = {}\n",
    "\n",
    "for j in range(20,55,5):\n",
    "    counter = 0\n",
    "    pred_train = []\n",
    "    nn_used_for_prediction = []\n",
    "    for i, m in list(zip(train.userId,train.movieId)):\n",
    "        p, n = predict_rating(i,m,train,movie_user_index_train,user_nn_weights,j,avg_ratings_train)\n",
    "        pred_train.append(p)\n",
    "        nn_used_for_prediction.append(n)\n",
    "        counter += 1\n",
    "        if counter%1000000==0:\n",
    "            print(f'Completed {counter*100/len(train1):.2f}%')\n",
    "    \n",
    "    \n",
    "    train['Predictions'] = pred_train\n",
    "    train['nn'] = nn_used_for_prediction\n",
    "    mse = ((train.rating - train.Predictions)**2).mean()\n",
    "    train_mse[j] = mse\n",
    "    print(f'Completed training mse for {j} neighbours')\n",
    "\n",
    "time.process_time() - start"
   ]
  },
  {
   "cell_type": "code",
   "execution_count": 24,
   "metadata": {},
   "outputs": [
    {
     "data": {
      "text/plain": [
       "(4455283, 4455283)"
      ]
     },
     "execution_count": 24,
     "metadata": {},
     "output_type": "execute_result"
    }
   ],
   "source": [
    "len(pred_train), train.shape[0]"
   ]
  },
  {
   "cell_type": "code",
   "execution_count": 25,
   "metadata": {},
   "outputs": [
    {
     "name": "stdout",
     "output_type": "stream",
     "text": [
      "Completed 22.45%\n",
      "Completed test mse for 20 neighbours\n",
      "Completed 22.45%\n",
      "Completed test mse for 25 neighbours\n",
      "Completed 22.45%\n",
      "Completed test mse for 30 neighbours\n",
      "Completed 22.45%\n",
      "Completed test mse for 35 neighbours\n",
      "Completed 22.45%\n",
      "Completed test mse for 40 neighbours\n",
      "Completed 22.45%\n",
      "Completed test mse for 45 neighbours\n",
      "Completed 22.45%\n",
      "Completed test mse for 50 neighbours\n"
     ]
    },
    {
     "data": {
      "text/plain": [
       "38790.375"
      ]
     },
     "execution_count": 25,
     "metadata": {},
     "output_type": "execute_result"
    }
   ],
   "source": [
    "from IPython.display import clear_output\n",
    "start = time.process_time()\n",
    "\n",
    "test_mse = {}\n",
    "\n",
    "for j in range(20,55,5):\n",
    "    counter = 0\n",
    "    pred_test = []\n",
    "    nn_used_for_prediction = []\n",
    "    for i, m in list(zip(test.userId,test.movieId)):\n",
    "        p, n = predict_rating(i,m,test,movie_user_index_test,user_nn_weights,j,avg_ratings_test)\n",
    "        pred_test.append(p)\n",
    "        nn_used_for_prediction.append(n)\n",
    "        counter += 1\n",
    "        if counter%1000000==0:\n",
    "            print(f'Completed {counter*100/len(train1):.2f}%')\n",
    "    \n",
    "    \n",
    "    test['Predictions'] = pred_test\n",
    "    test['nn'] = nn_used_for_prediction\n",
    "    mse = ((test.rating - test.Predictions)**2).mean()\n",
    "    test_mse[j] = mse\n",
    "    print(f'Completed test mse for {j} neighbours')\n",
    "\n",
    "time.process_time() - start"
   ]
  },
  {
   "cell_type": "code",
   "execution_count": 36,
   "metadata": {
    "scrolled": false
   },
   "outputs": [
    {
     "data": {
      "image/png": "[encoded data removed]",
      "text/plain": [
       "<Figure size 432x288 with 1 Axes>"
      ]
     },
     "metadata": {
      "needs_background": "light"
     },
     "output_type": "display_data"
    }
   ],
   "source": [
    "%matplotlib inline\n",
    "import matplotlib.pyplot as plt\n",
    "import numpy as np\n",
    "\n",
    "x = list(range(20,55,5))\n",
    "plt.plot(x,train_mse.values(), label='train mse')\n",
    "plt.plot(x,test_mse.values(), label='test mse')\n",
    "plt.ylim([0, 1])\n",
    "#plt.xticks(x, labels, rotation ='vertical')\n",
    "plt.legend()\n",
    "plt.show()"
   ]
  },
  {
   "cell_type": "code",
   "execution_count": 53,
   "metadata": {},
   "outputs": [
    {
     "data": {
      "text/plain": [
       "(0.7273524471653608, 0.913269187648182)"
      ]
     },
     "execution_count": 53,
     "metadata": {},
     "output_type": "execute_result"
    }
   ],
   "source": [
    "np.sqrt(train_mse[50]),np.sqrt(test_mse[50])"
   ]
  },
  {
   "cell_type": "markdown",
   "metadata": {},
   "source": [
    "Close to the benchmarks of [0.83 - 0.86]"
   ]
  },
  {
   "cell_type": "code",
   "execution_count": 41,
   "metadata": {},
   "outputs": [],
   "source": [
    "train['se'] = abs(train.rating - train.Predictions)\n",
    "test['se'] = abs(test.rating - test.Predictions)"
   ]
  },
  {
   "cell_type": "code",
   "execution_count": 48,
   "metadata": {},
   "outputs": [
    {
     "data": {
      "text/plain": [
       "<matplotlib.axes._subplots.AxesSubplot at 0x16bea47d400>"
      ]
     },
     "execution_count": 48,
     "metadata": {},
     "output_type": "execute_result"
    },
    {
     "data": {
      "image/png": "[encoded data removed]",
      "text/plain": [
       "<Figure size 432x288 with 1 Axes>"
      ]
     },
     "metadata": {
      "needs_background": "light"
     },
     "output_type": "display_data"
    }
   ],
   "source": [
    "train.groupby('nn').agg({'se':'mean'}).plot()"
   ]
  },
  {
   "cell_type": "code",
   "execution_count": 49,
   "metadata": {
    "scrolled": true
   },
   "outputs": [
    {
     "data": {
      "text/plain": [
       "<matplotlib.axes._subplots.AxesSubplot at 0x16ba76c42b0>"
      ]
     },
     "execution_count": 49,
     "metadata": {},
     "output_type": "execute_result"
    },
    {
     "data": {
      "image/png": "[encoded data removed]",
      "text/plain": [
       "<Figure size 432x288 with 1 Axes>"
      ]
     },
     "metadata": {
      "needs_background": "light"
     },
     "output_type": "display_data"
    }
   ],
   "source": [
    "test.groupby('nn').agg({'se':'mean'}).plot()"
   ]
  },
  {
   "cell_type": "markdown",
   "metadata": {},
   "source": [
    "The mse tends to be decrease with increase in number of neighbours which are used for predictions, to make sure that we get a good number of neighbours in majority cases we can decrease the minimum number of common movies needed criteria."
   ]
  }
 ],
 "metadata": {
  "kernelspec": {
   "display_name": "Python 3",
   "language": "python",
   "name": "python3"
  },
  "language_info": {
   "codemirror_mode": {
    "name": "ipython",
    "version": 3
   },
   "file_extension": ".py",
   "mimetype": "text/x-python",
   "name": "python",
   "nbconvert_exporter": "python",
   "pygments_lexer": "ipython3",
   "version": "3.8.5"
  }
 },
 "nbformat": 4,
 "nbformat_minor": 4
}
